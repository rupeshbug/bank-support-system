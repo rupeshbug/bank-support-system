{
 "cells": [
  {
   "cell_type": "markdown",
   "metadata": {},
   "source": [
    "## Import necessary dependencies"
   ]
  },
  {
   "cell_type": "code",
   "execution_count": 4,
   "metadata": {},
   "outputs": [],
   "source": [
    "import pandas as pd\n",
    "from sklearn.model_selection import train_test_split\n",
    "from transformers import T5Tokenizer, T5ForConditionalGeneration, Trainer, TrainingArguments\n",
    "import torch"
   ]
  },
  {
   "cell_type": "markdown",
   "metadata": {},
   "source": [
    "## Load the dataset"
   ]
  },
  {
   "cell_type": "code",
   "execution_count": 5,
   "metadata": {},
   "outputs": [],
   "source": [
    "splits = {'train': 'train.jsonl', 'test': 'test.jsonl'}\n",
    "\n",
    "train_df = pd.read_json(\"hf://datasets/mteb/banking77/\" + splits[\"train\"], lines=True)\n",
    "\n",
    "test_df = pd.read_json(\"hf://datasets/mteb/banking77/\" + splits[\"test\"], lines=True)"
   ]
  },
  {
   "cell_type": "code",
   "execution_count": 6,
   "metadata": {},
   "outputs": [
    {
     "data": {
      "text/html": [
       "<div>\n",
       "<style scoped>\n",
       "    .dataframe tbody tr th:only-of-type {\n",
       "        vertical-align: middle;\n",
       "    }\n",
       "\n",
       "    .dataframe tbody tr th {\n",
       "        vertical-align: top;\n",
       "    }\n",
       "\n",
       "    .dataframe thead th {\n",
       "        text-align: right;\n",
       "    }\n",
       "</style>\n",
       "<table border=\"1\" class=\"dataframe\">\n",
       "  <thead>\n",
       "    <tr style=\"text-align: right;\">\n",
       "      <th></th>\n",
       "      <th>text</th>\n",
       "      <th>label</th>\n",
       "      <th>label_text</th>\n",
       "    </tr>\n",
       "  </thead>\n",
       "  <tbody>\n",
       "    <tr>\n",
       "      <th>0</th>\n",
       "      <td>I am still waiting on my card?</td>\n",
       "      <td>11</td>\n",
       "      <td>card_arrival</td>\n",
       "    </tr>\n",
       "    <tr>\n",
       "      <th>1</th>\n",
       "      <td>What can I do if my card still hasn't arrived ...</td>\n",
       "      <td>11</td>\n",
       "      <td>card_arrival</td>\n",
       "    </tr>\n",
       "    <tr>\n",
       "      <th>2</th>\n",
       "      <td>I have been waiting over a week. Is the card s...</td>\n",
       "      <td>11</td>\n",
       "      <td>card_arrival</td>\n",
       "    </tr>\n",
       "    <tr>\n",
       "      <th>3</th>\n",
       "      <td>Can I track my card while it is in the process...</td>\n",
       "      <td>11</td>\n",
       "      <td>card_arrival</td>\n",
       "    </tr>\n",
       "    <tr>\n",
       "      <th>4</th>\n",
       "      <td>How do I know if I will get my card, or if it ...</td>\n",
       "      <td>11</td>\n",
       "      <td>card_arrival</td>\n",
       "    </tr>\n",
       "  </tbody>\n",
       "</table>\n",
       "</div>"
      ],
      "text/plain": [
       "                                                text  label    label_text\n",
       "0                     I am still waiting on my card?     11  card_arrival\n",
       "1  What can I do if my card still hasn't arrived ...     11  card_arrival\n",
       "2  I have been waiting over a week. Is the card s...     11  card_arrival\n",
       "3  Can I track my card while it is in the process...     11  card_arrival\n",
       "4  How do I know if I will get my card, or if it ...     11  card_arrival"
      ]
     },
     "execution_count": 6,
     "metadata": {},
     "output_type": "execute_result"
    }
   ],
   "source": [
    "train_df.head()"
   ]
  },
  {
   "cell_type": "code",
   "execution_count": 7,
   "metadata": {},
   "outputs": [
    {
     "data": {
      "text/html": [
       "<div>\n",
       "<style scoped>\n",
       "    .dataframe tbody tr th:only-of-type {\n",
       "        vertical-align: middle;\n",
       "    }\n",
       "\n",
       "    .dataframe tbody tr th {\n",
       "        vertical-align: top;\n",
       "    }\n",
       "\n",
       "    .dataframe thead th {\n",
       "        text-align: right;\n",
       "    }\n",
       "</style>\n",
       "<table border=\"1\" class=\"dataframe\">\n",
       "  <thead>\n",
       "    <tr style=\"text-align: right;\">\n",
       "      <th></th>\n",
       "      <th>text</th>\n",
       "      <th>label</th>\n",
       "      <th>label_text</th>\n",
       "    </tr>\n",
       "  </thead>\n",
       "  <tbody>\n",
       "    <tr>\n",
       "      <th>0</th>\n",
       "      <td>How do I locate my card?</td>\n",
       "      <td>11</td>\n",
       "      <td>card_arrival</td>\n",
       "    </tr>\n",
       "    <tr>\n",
       "      <th>1</th>\n",
       "      <td>I still have not received my new card, I order...</td>\n",
       "      <td>11</td>\n",
       "      <td>card_arrival</td>\n",
       "    </tr>\n",
       "    <tr>\n",
       "      <th>2</th>\n",
       "      <td>I ordered a card but it has not arrived. Help ...</td>\n",
       "      <td>11</td>\n",
       "      <td>card_arrival</td>\n",
       "    </tr>\n",
       "    <tr>\n",
       "      <th>3</th>\n",
       "      <td>Is there a way to know when my card will arrive?</td>\n",
       "      <td>11</td>\n",
       "      <td>card_arrival</td>\n",
       "    </tr>\n",
       "    <tr>\n",
       "      <th>4</th>\n",
       "      <td>My card has not arrived yet.</td>\n",
       "      <td>11</td>\n",
       "      <td>card_arrival</td>\n",
       "    </tr>\n",
       "  </tbody>\n",
       "</table>\n",
       "</div>"
      ],
      "text/plain": [
       "                                                text  label    label_text\n",
       "0                           How do I locate my card?     11  card_arrival\n",
       "1  I still have not received my new card, I order...     11  card_arrival\n",
       "2  I ordered a card but it has not arrived. Help ...     11  card_arrival\n",
       "3   Is there a way to know when my card will arrive?     11  card_arrival\n",
       "4                       My card has not arrived yet.     11  card_arrival"
      ]
     },
     "execution_count": 7,
     "metadata": {},
     "output_type": "execute_result"
    }
   ],
   "source": [
    "test_df.head()"
   ]
  },
  {
   "cell_type": "code",
   "execution_count": 8,
   "metadata": {},
   "outputs": [
    {
     "name": "stdout",
     "output_type": "stream",
     "text": [
      "No. of rows in train set:  10003\n",
      "No. of rows in test set:  3080\n"
     ]
    }
   ],
   "source": [
    "print(\"No. of rows in train set: \", len(train_df))\n",
    "print(\"No. of rows in test set: \", len(test_df))"
   ]
  },
  {
   "cell_type": "code",
   "execution_count": 9,
   "metadata": {},
   "outputs": [
    {
     "data": {
      "text/plain": [
       "text          10003\n",
       "label            77\n",
       "label_text       77\n",
       "dtype: int64"
      ]
     },
     "execution_count": 9,
     "metadata": {},
     "output_type": "execute_result"
    }
   ],
   "source": [
    "# no. of unique labels (intents)\n",
    "train_df.nunique()"
   ]
  },
  {
   "cell_type": "markdown",
   "metadata": {},
   "source": [
    "## Data Preprocessing"
   ]
  },
  {
   "cell_type": "markdown",
   "metadata": {},
   "source": [
    "#### Analyze and Select Key Intents"
   ]
  },
  {
   "cell_type": "markdown",
   "metadata": {},
   "source": [
    "We will focus on the top 10 most common label_text (intent) instead of all 77. Working with a smaller subset can make the training process faster and more manageable."
   ]
  },
  {
   "cell_type": "code",
   "execution_count": 10,
   "metadata": {},
   "outputs": [
    {
     "name": "stdout",
     "output_type": "stream",
     "text": [
      "Top 20 Intents: Index(['card_payment_fee_charged', 'direct_debit_payment_not_recognised',\n",
      "       'balance_not_updated_after_cheque_or_cash_deposit',\n",
      "       'wrong_amount_of_cash_received', 'cash_withdrawal_charge',\n",
      "       'transaction_charged_twice', 'declined_cash_withdrawal',\n",
      "       'transfer_fee_charged', 'transfer_not_received_by_recipient',\n",
      "       'balance_not_updated_after_bank_transfer', 'request_refund',\n",
      "       'card_payment_not_recognised', 'card_payment_wrong_exchange_rate',\n",
      "       'extra_charge_on_statement', 'wrong_exchange_rate_for_cash_withdrawal',\n",
      "       'Refund_not_showing_up', 'reverted_card_payment?',\n",
      "       'cash_withdrawal_not_recognised', 'activate_my_card',\n",
      "       'pending_card_payment'],\n",
      "      dtype='object', name='label_text')\n"
     ]
    }
   ],
   "source": [
    "# Select the top 20 most common intents\n",
    "top_intents = train_df['label_text'].value_counts().head(20).index\n",
    "print(\"Top 20 Intents:\", top_intents)"
   ]
  },
  {
   "cell_type": "code",
   "execution_count": 11,
   "metadata": {},
   "outputs": [
    {
     "name": "stdout",
     "output_type": "stream",
     "text": [
      "Updated Top Intents: Index(['card_payment_fee_charged', 'direct_debit_payment_not_recognised',\n",
      "       'balance_not_updated_after_cheque_or_cash_deposit',\n",
      "       'wrong_amount_of_cash_received', 'cash_withdrawal_charge',\n",
      "       'transaction_charged_twice', 'declined_cash_withdrawal',\n",
      "       'transfer_fee_charged', 'transfer_not_received_by_recipient',\n",
      "       'balance_not_updated_after_bank_transfer', 'request_refund',\n",
      "       'card_payment_not_recognised', 'card_payment_wrong_exchange_rate',\n",
      "       'extra_charge_on_statement', 'wrong_exchange_rate_for_cash_withdrawal',\n",
      "       'Refund_not_showing_up', 'reverted_card_payment?',\n",
      "       'cash_withdrawal_not_recognised', 'activate_my_card',\n",
      "       'pending_card_payment', 'card_arrival', 'lost_or_stolen_card'],\n",
      "      dtype='object')\n"
     ]
    }
   ],
   "source": [
    "# Add 'card_arrival' and 'lost_or_stolen_card' to the list of intents if they're not already included\n",
    "top_intents = top_intents.append(pd.Index(['card_arrival', 'lost_or_stolen_card']))\n",
    "print(\"Updated Top Intents:\", top_intents)"
   ]
  },
  {
   "cell_type": "code",
   "execution_count": 12,
   "metadata": {},
   "outputs": [],
   "source": [
    "# Filter data for updated top intents\n",
    "train_df = train_df[train_df['label_text'].isin(top_intents)]\n",
    "test_df = test_df[test_df['label_text'].isin(top_intents)]"
   ]
  },
  {
   "cell_type": "code",
   "execution_count": 16,
   "metadata": {},
   "outputs": [
    {
     "data": {
      "text/html": [
       "<div>\n",
       "<style scoped>\n",
       "    .dataframe tbody tr th:only-of-type {\n",
       "        vertical-align: middle;\n",
       "    }\n",
       "\n",
       "    .dataframe tbody tr th {\n",
       "        vertical-align: top;\n",
       "    }\n",
       "\n",
       "    .dataframe thead th {\n",
       "        text-align: right;\n",
       "    }\n",
       "</style>\n",
       "<table border=\"1\" class=\"dataframe\">\n",
       "  <thead>\n",
       "    <tr style=\"text-align: right;\">\n",
       "      <th></th>\n",
       "      <th>text</th>\n",
       "      <th>label</th>\n",
       "      <th>label_text</th>\n",
       "    </tr>\n",
       "  </thead>\n",
       "  <tbody>\n",
       "    <tr>\n",
       "      <th>9510</th>\n",
       "      <td>I used my card to get cash then I was charged ...</td>\n",
       "      <td>19</td>\n",
       "      <td>cash_withdrawal_charge</td>\n",
       "    </tr>\n",
       "    <tr>\n",
       "      <th>9511</th>\n",
       "      <td>I noticed a different charge while I was takin...</td>\n",
       "      <td>19</td>\n",
       "      <td>cash_withdrawal_charge</td>\n",
       "    </tr>\n",
       "    <tr>\n",
       "      <th>9512</th>\n",
       "      <td>Why was I charged a fee for withdrawing money?</td>\n",
       "      <td>19</td>\n",
       "      <td>cash_withdrawal_charge</td>\n",
       "    </tr>\n",
       "    <tr>\n",
       "      <th>9513</th>\n",
       "      <td>Do cash withdrawals cost anything?</td>\n",
       "      <td>19</td>\n",
       "      <td>cash_withdrawal_charge</td>\n",
       "    </tr>\n",
       "    <tr>\n",
       "      <th>9514</th>\n",
       "      <td>Why is there a fee for getting cash?</td>\n",
       "      <td>19</td>\n",
       "      <td>cash_withdrawal_charge</td>\n",
       "    </tr>\n",
       "  </tbody>\n",
       "</table>\n",
       "</div>"
      ],
      "text/plain": [
       "                                                   text  label  \\\n",
       "9510  I used my card to get cash then I was charged ...     19   \n",
       "9511  I noticed a different charge while I was takin...     19   \n",
       "9512     Why was I charged a fee for withdrawing money?     19   \n",
       "9513                 Do cash withdrawals cost anything?     19   \n",
       "9514               Why is there a fee for getting cash?     19   \n",
       "\n",
       "                  label_text  \n",
       "9510  cash_withdrawal_charge  \n",
       "9511  cash_withdrawal_charge  \n",
       "9512  cash_withdrawal_charge  \n",
       "9513  cash_withdrawal_charge  \n",
       "9514  cash_withdrawal_charge  "
      ]
     },
     "execution_count": 16,
     "metadata": {},
     "output_type": "execute_result"
    }
   ],
   "source": [
    "train_df.tail()"
   ]
  },
  {
   "cell_type": "code",
   "execution_count": 17,
   "metadata": {},
   "outputs": [
    {
     "data": {
      "text/html": [
       "<div>\n",
       "<style scoped>\n",
       "    .dataframe tbody tr th:only-of-type {\n",
       "        vertical-align: middle;\n",
       "    }\n",
       "\n",
       "    .dataframe tbody tr th {\n",
       "        vertical-align: top;\n",
       "    }\n",
       "\n",
       "    .dataframe thead th {\n",
       "        text-align: right;\n",
       "    }\n",
       "</style>\n",
       "<table border=\"1\" class=\"dataframe\">\n",
       "  <thead>\n",
       "    <tr style=\"text-align: right;\">\n",
       "      <th></th>\n",
       "      <th>text</th>\n",
       "      <th>label</th>\n",
       "      <th>label_text</th>\n",
       "    </tr>\n",
       "  </thead>\n",
       "  <tbody>\n",
       "    <tr>\n",
       "      <th>0</th>\n",
       "      <td>How do I locate my card?</td>\n",
       "      <td>11</td>\n",
       "      <td>card_arrival</td>\n",
       "    </tr>\n",
       "    <tr>\n",
       "      <th>1</th>\n",
       "      <td>I still have not received my new card, I order...</td>\n",
       "      <td>11</td>\n",
       "      <td>card_arrival</td>\n",
       "    </tr>\n",
       "    <tr>\n",
       "      <th>2</th>\n",
       "      <td>I ordered a card but it has not arrived. Help ...</td>\n",
       "      <td>11</td>\n",
       "      <td>card_arrival</td>\n",
       "    </tr>\n",
       "    <tr>\n",
       "      <th>3</th>\n",
       "      <td>Is there a way to know when my card will arrive?</td>\n",
       "      <td>11</td>\n",
       "      <td>card_arrival</td>\n",
       "    </tr>\n",
       "    <tr>\n",
       "      <th>4</th>\n",
       "      <td>My card has not arrived yet.</td>\n",
       "      <td>11</td>\n",
       "      <td>card_arrival</td>\n",
       "    </tr>\n",
       "  </tbody>\n",
       "</table>\n",
       "</div>"
      ],
      "text/plain": [
       "                                                text  label    label_text\n",
       "0                           How do I locate my card?     11  card_arrival\n",
       "1  I still have not received my new card, I order...     11  card_arrival\n",
       "2  I ordered a card but it has not arrived. Help ...     11  card_arrival\n",
       "3   Is there a way to know when my card will arrive?     11  card_arrival\n",
       "4                       My card has not arrived yet.     11  card_arrival"
      ]
     },
     "execution_count": 17,
     "metadata": {},
     "output_type": "execute_result"
    }
   ],
   "source": [
    "test_df.head()"
   ]
  },
  {
   "cell_type": "code",
   "execution_count": 18,
   "metadata": {},
   "outputs": [],
   "source": [
    "# Predefined responses for each responses\n",
    "responses = {\n",
    "    \"card_payment_fee_charged\": \"Please check your account statement for details on card payment fees.\",\n",
    "    \"direct_debit_payment_not_recognised\": \"If a direct debit payment isn't recognized, please contact our support team for assistance.\",\n",
    "    \"balance_not_updated_after_cheque_or_cash_deposit\": \"Balance updates may take a few hours. If it's still not updated, please contact us.\",\n",
    "    \"wrong_amount_of_cash_received\": \"If you received the wrong amount of cash, please report it to the nearest branch immediately.\",\n",
    "    \"cash_withdrawal_charge\": \"Cash withdrawal charges are detailed in your account terms. Please review them for more information.\",\n",
    "    \"transaction_charged_twice\": \"If you notice a duplicate charge, please reach out to customer support for a refund.\",\n",
    "    \"declined_cash_withdrawal\": \"A declined cash withdrawal may be due to insufficient funds or account restrictions. Check with us for details.\",\n",
    "    \"transfer_fee_charged\": \"Transfer fees are applied as per the terms of your account. For details, refer to your account agreement.\",\n",
    "    \"balance_not_updated_after_bank_transfer\": \"Transfers may take a few hours to reflect in your balance. Contact us if the issue persists.\",\n",
    "    \"request_refund\": \"To request a refund, please fill out the refund request form on our website or contact our support team.\",\n",
    "    \"card_arrival\": \"Your card will arrive within the expected delivery timeframe. If it does not arrive, please contact us.\",\n",
    "    \"lost_or_stolen_card\": \"If your card is lost or stolen, please report it to our support team immediately to prevent unauthorized use.\",\n",
    "    \"card_payment_not_recognised\": \"If a card payment is not recognized, please contact our support team for assistance.\",\n",
    "    \"card_payment_wrong_exchange_rate\": \"If there's an issue with the exchange rate on your card payment, please reach out to customer support.\",\n",
    "    \"extra_charge_on_statement\": \"If you see an extra charge on your statement, please contact our support team for clarification.\",\n",
    "    \"wrong_exchange_rate_for_cash_withdrawal\": \"If you encounter a wrong exchange rate for a cash withdrawal, please contact support for assistance.\",\n",
    "    \"refund_not_showing_up\": \"If a refund is not showing up, please contact our support team to check the status of your refund.\",\n",
    "    \"reverted_card_payment?\": \"If your card payment was reverted, please contact support for details on why it happened.\",\n",
    "    \"cash_withdrawal_not_recognised\": \"If a cash withdrawal is not recognized, please reach out to our support team for assistance.\",\n",
    "    \"activate_my_card\": \"To activate your card, please follow the instructions provided in your card package or contact our support team.\",\n",
    "    \"pending_card_payment\": \"If your card payment is pending, it may take a few hours to process. Contact support if the issue persists.\"\n",
    "}"
   ]
  },
  {
   "cell_type": "code",
   "execution_count": 19,
   "metadata": {},
   "outputs": [],
   "source": [
    "# Add responses to the datasets\n",
    "def add_response(row):\n",
    "    return responses.get(row['label_text'], \"Cannot answer this question. Please contact support.\")\n",
    "\n",
    "train_df['response'] = train_df.apply(add_response, axis=1)\n",
    "test_df['response'] = test_df.apply(add_response, axis=1)"
   ]
  },
  {
   "cell_type": "code",
   "execution_count": 20,
   "metadata": {},
   "outputs": [
    {
     "data": {
      "text/html": [
       "<div>\n",
       "<style scoped>\n",
       "    .dataframe tbody tr th:only-of-type {\n",
       "        vertical-align: middle;\n",
       "    }\n",
       "\n",
       "    .dataframe tbody tr th {\n",
       "        vertical-align: top;\n",
       "    }\n",
       "\n",
       "    .dataframe thead th {\n",
       "        text-align: right;\n",
       "    }\n",
       "</style>\n",
       "<table border=\"1\" class=\"dataframe\">\n",
       "  <thead>\n",
       "    <tr style=\"text-align: right;\">\n",
       "      <th></th>\n",
       "      <th>text</th>\n",
       "      <th>label</th>\n",
       "      <th>label_text</th>\n",
       "      <th>response</th>\n",
       "    </tr>\n",
       "  </thead>\n",
       "  <tbody>\n",
       "    <tr>\n",
       "      <th>0</th>\n",
       "      <td>I am still waiting on my card?</td>\n",
       "      <td>11</td>\n",
       "      <td>card_arrival</td>\n",
       "      <td>Your card will arrive within the expected deli...</td>\n",
       "    </tr>\n",
       "    <tr>\n",
       "      <th>1</th>\n",
       "      <td>What can I do if my card still hasn't arrived ...</td>\n",
       "      <td>11</td>\n",
       "      <td>card_arrival</td>\n",
       "      <td>Your card will arrive within the expected deli...</td>\n",
       "    </tr>\n",
       "    <tr>\n",
       "      <th>2</th>\n",
       "      <td>I have been waiting over a week. Is the card s...</td>\n",
       "      <td>11</td>\n",
       "      <td>card_arrival</td>\n",
       "      <td>Your card will arrive within the expected deli...</td>\n",
       "    </tr>\n",
       "    <tr>\n",
       "      <th>3</th>\n",
       "      <td>Can I track my card while it is in the process...</td>\n",
       "      <td>11</td>\n",
       "      <td>card_arrival</td>\n",
       "      <td>Your card will arrive within the expected deli...</td>\n",
       "    </tr>\n",
       "    <tr>\n",
       "      <th>4</th>\n",
       "      <td>How do I know if I will get my card, or if it ...</td>\n",
       "      <td>11</td>\n",
       "      <td>card_arrival</td>\n",
       "      <td>Your card will arrive within the expected deli...</td>\n",
       "    </tr>\n",
       "  </tbody>\n",
       "</table>\n",
       "</div>"
      ],
      "text/plain": [
       "                                                text  label    label_text  \\\n",
       "0                     I am still waiting on my card?     11  card_arrival   \n",
       "1  What can I do if my card still hasn't arrived ...     11  card_arrival   \n",
       "2  I have been waiting over a week. Is the card s...     11  card_arrival   \n",
       "3  Can I track my card while it is in the process...     11  card_arrival   \n",
       "4  How do I know if I will get my card, or if it ...     11  card_arrival   \n",
       "\n",
       "                                            response  \n",
       "0  Your card will arrive within the expected deli...  \n",
       "1  Your card will arrive within the expected deli...  \n",
       "2  Your card will arrive within the expected deli...  \n",
       "3  Your card will arrive within the expected deli...  \n",
       "4  Your card will arrive within the expected deli...  "
      ]
     },
     "execution_count": 20,
     "metadata": {},
     "output_type": "execute_result"
    }
   ],
   "source": [
    "train_df.head()"
   ]
  },
  {
   "cell_type": "code",
   "execution_count": 21,
   "metadata": {},
   "outputs": [
    {
     "data": {
      "text/html": [
       "<div>\n",
       "<style scoped>\n",
       "    .dataframe tbody tr th:only-of-type {\n",
       "        vertical-align: middle;\n",
       "    }\n",
       "\n",
       "    .dataframe tbody tr th {\n",
       "        vertical-align: top;\n",
       "    }\n",
       "\n",
       "    .dataframe thead th {\n",
       "        text-align: right;\n",
       "    }\n",
       "</style>\n",
       "<table border=\"1\" class=\"dataframe\">\n",
       "  <thead>\n",
       "    <tr style=\"text-align: right;\">\n",
       "      <th></th>\n",
       "      <th>text</th>\n",
       "      <th>label</th>\n",
       "      <th>label_text</th>\n",
       "      <th>response</th>\n",
       "    </tr>\n",
       "  </thead>\n",
       "  <tbody>\n",
       "    <tr>\n",
       "      <th>2915</th>\n",
       "      <td>Was charged an ATM fee despite it being a smal...</td>\n",
       "      <td>19</td>\n",
       "      <td>cash_withdrawal_charge</td>\n",
       "      <td>Cash withdrawal charges are detailed in your a...</td>\n",
       "    </tr>\n",
       "    <tr>\n",
       "      <th>2916</th>\n",
       "      <td>I had a wrong fee charged at this ATM.</td>\n",
       "      <td>19</td>\n",
       "      <td>cash_withdrawal_charge</td>\n",
       "      <td>Cash withdrawal charges are detailed in your a...</td>\n",
       "    </tr>\n",
       "    <tr>\n",
       "      <th>2917</th>\n",
       "      <td>When I got cash, I'm pretty sure there was a g...</td>\n",
       "      <td>19</td>\n",
       "      <td>cash_withdrawal_charge</td>\n",
       "      <td>Cash withdrawal charges are detailed in your a...</td>\n",
       "    </tr>\n",
       "    <tr>\n",
       "      <th>2918</th>\n",
       "      <td>My account got charged for taking out cash, wh...</td>\n",
       "      <td>19</td>\n",
       "      <td>cash_withdrawal_charge</td>\n",
       "      <td>Cash withdrawal charges are detailed in your a...</td>\n",
       "    </tr>\n",
       "    <tr>\n",
       "      <th>2919</th>\n",
       "      <td>Why is there a fee for withdrawing?</td>\n",
       "      <td>19</td>\n",
       "      <td>cash_withdrawal_charge</td>\n",
       "      <td>Cash withdrawal charges are detailed in your a...</td>\n",
       "    </tr>\n",
       "  </tbody>\n",
       "</table>\n",
       "</div>"
      ],
      "text/plain": [
       "                                                   text  label  \\\n",
       "2915  Was charged an ATM fee despite it being a smal...     19   \n",
       "2916             I had a wrong fee charged at this ATM.     19   \n",
       "2917  When I got cash, I'm pretty sure there was a g...     19   \n",
       "2918  My account got charged for taking out cash, wh...     19   \n",
       "2919                Why is there a fee for withdrawing?     19   \n",
       "\n",
       "                  label_text  \\\n",
       "2915  cash_withdrawal_charge   \n",
       "2916  cash_withdrawal_charge   \n",
       "2917  cash_withdrawal_charge   \n",
       "2918  cash_withdrawal_charge   \n",
       "2919  cash_withdrawal_charge   \n",
       "\n",
       "                                               response  \n",
       "2915  Cash withdrawal charges are detailed in your a...  \n",
       "2916  Cash withdrawal charges are detailed in your a...  \n",
       "2917  Cash withdrawal charges are detailed in your a...  \n",
       "2918  Cash withdrawal charges are detailed in your a...  \n",
       "2919  Cash withdrawal charges are detailed in your a...  "
      ]
     },
     "execution_count": 21,
     "metadata": {},
     "output_type": "execute_result"
    }
   ],
   "source": [
    "test_df.tail()"
   ]
  },
  {
   "cell_type": "markdown",
   "metadata": {},
   "source": [
    "#### Preprocess the data"
   ]
  },
  {
   "cell_type": "code",
   "execution_count": 22,
   "metadata": {},
   "outputs": [],
   "source": [
    "def preprocess_data(df):\n",
    "    inputs = []\n",
    "    targets = []\n",
    "    for _, row in df.iterrows():\n",
    "        inputs.append(row['text'])\n",
    "        targets.append(f\"{row['response']}\") \n",
    "    return inputs, targets\n",
    "\n",
    "train_inputs, train_targets = preprocess_data(train_df)\n",
    "test_inputs, test_targets = preprocess_data(test_df)"
   ]
  },
  {
   "cell_type": "code",
   "execution_count": 24,
   "metadata": {},
   "outputs": [
    {
     "data": {
      "text/plain": [
       "['I am still waiting on my card?',\n",
       " \"What can I do if my card still hasn't arrived after 2 weeks?\",\n",
       " 'I have been waiting over a week. Is the card still coming?']"
      ]
     },
     "execution_count": 24,
     "metadata": {},
     "output_type": "execute_result"
    }
   ],
   "source": [
    "train_inputs[:3]"
   ]
  },
  {
   "cell_type": "code",
   "execution_count": 25,
   "metadata": {},
   "outputs": [
    {
     "data": {
      "text/plain": [
       "['Your card will arrive within the expected delivery timeframe. If it does not arrive, please contact us.',\n",
       " 'Your card will arrive within the expected delivery timeframe. If it does not arrive, please contact us.',\n",
       " 'Your card will arrive within the expected delivery timeframe. If it does not arrive, please contact us.']"
      ]
     },
     "execution_count": 25,
     "metadata": {},
     "output_type": "execute_result"
    }
   ],
   "source": [
    "train_targets[:3]"
   ]
  },
  {
   "cell_type": "code",
   "execution_count": 26,
   "metadata": {},
   "outputs": [],
   "source": [
    "# Further split the train dataset into train and validation sets\n",
    "train_inputs, val_inputs, train_targets, val_targets = train_test_split(train_inputs, train_targets, test_size=0.1)"
   ]
  },
  {
   "cell_type": "markdown",
   "metadata": {},
   "source": [
    "## Fine-tune the T5 Model"
   ]
  },
  {
   "cell_type": "code",
   "execution_count": 27,
   "metadata": {},
   "outputs": [
    {
     "name": "stderr",
     "output_type": "stream",
     "text": [
      "You are using the default legacy behaviour of the <class 'transformers.models.t5.tokenization_t5.T5Tokenizer'>. This is expected, and simply means that the `legacy` (previous) behavior will be used so nothing changes for you. If you want to use the new behaviour, set `legacy=False`. This should only be set if you understand what it means, and thoroughly read the reason why this was added as explained in https://github.com/huggingface/transformers/pull/24565\n"
     ]
    }
   ],
   "source": [
    "# Initialize the T5 tokenizer and model\n",
    "\n",
    "tokenizer = T5Tokenizer.from_pretrained(\"t5-small\")\n",
    "model = T5ForConditionalGeneration.from_pretrained(\"t5-small\")"
   ]
  },
  {
   "cell_type": "code",
   "execution_count": 28,
   "metadata": {},
   "outputs": [],
   "source": [
    "# Tokenize the data\n",
    "def tokenize_data(inputs, targets):\n",
    "    encodings = tokenizer(inputs, truncation=True, padding=True, max_length=128)\n",
    "    decodings = tokenizer(targets, truncation=True, padding=True, max_length=128)\n",
    "    return encodings, decodings\n",
    "\n",
    "train_encodings, train_decodings = tokenize_data(train_inputs, train_targets)\n",
    "val_encodings, val_decodings = tokenize_data(val_inputs, val_targets)"
   ]
  },
  {
   "cell_type": "code",
   "execution_count": 29,
   "metadata": {},
   "outputs": [],
   "source": [
    "class ChatDataset(torch.utils.data.Dataset):\n",
    "    def __init__(self, encodings, decodings):\n",
    "        self.encodings = encodings\n",
    "        self.decodings = decodings\n",
    "\n",
    "    def __getitem__(self, idx):\n",
    "        item = {key: torch.tensor(val[idx]) for key, val in self.encodings.items()}\n",
    "        item['labels'] = torch.tensor(self.decodings['input_ids'][idx])\n",
    "        return item\n",
    "\n",
    "    def __len__(self):\n",
    "        return len(self.encodings['input_ids'])\n",
    "\n",
    "train_dataset = ChatDataset(train_encodings, train_decodings)\n",
    "val_dataset = ChatDataset(val_encodings, val_decodings)"
   ]
  },
  {
   "cell_type": "code",
   "execution_count": 30,
   "metadata": {},
   "outputs": [
    {
     "name": "stderr",
     "output_type": "stream",
     "text": [
      " 41%|████      | 500/1230 [35:05<46:25,  3.82s/it]  "
     ]
    },
    {
     "name": "stdout",
     "output_type": "stream",
     "text": [
      "{'loss': 1.2917, 'grad_norm': 2.5409693717956543, 'learning_rate': 2.9674796747967482e-05, 'epoch': 1.22}\n"
     ]
    },
    {
     "name": "stderr",
     "output_type": "stream",
     "text": [
      " 81%|████████▏ | 1000/1230 [1:16:49<21:01,  5.48s/it]"
     ]
    },
    {
     "name": "stdout",
     "output_type": "stream",
     "text": [
      "{'loss': 0.2428, 'grad_norm': 0.7909019589424133, 'learning_rate': 9.34959349593496e-06, 'epoch': 2.44}\n"
     ]
    },
    {
     "name": "stderr",
     "output_type": "stream",
     "text": [
      "100%|██████████| 1230/1230 [1:39:30<00:00,  4.85s/it]"
     ]
    },
    {
     "name": "stdout",
     "output_type": "stream",
     "text": [
      "{'train_runtime': 5970.0476, 'train_samples_per_second': 1.645, 'train_steps_per_second': 0.206, 'train_loss': 0.6580180253439802, 'epoch': 3.0}\n"
     ]
    },
    {
     "name": "stderr",
     "output_type": "stream",
     "text": [
      "\n"
     ]
    },
    {
     "data": {
      "text/plain": [
       "TrainOutput(global_step=1230, training_loss=0.6580180253439802, metrics={'train_runtime': 5970.0476, 'train_samples_per_second': 1.645, 'train_steps_per_second': 0.206, 'total_flos': 262230555820032.0, 'train_loss': 0.6580180253439802, 'epoch': 3.0})"
      ]
     },
     "execution_count": 30,
     "metadata": {},
     "output_type": "execute_result"
    }
   ],
   "source": [
    "# Fine-tune the T5 model\n",
    "training_args = TrainingArguments(\n",
    "    per_device_train_batch_size=8,\n",
    "    per_device_eval_batch_size=8,\n",
    "    output_dir='./results',\n",
    "    num_train_epochs=3,\n",
    "    logging_dir='./logs',\n",
    ")\n",
    "\n",
    "trainer = Trainer(\n",
    "    model=model,\n",
    "    args=training_args,\n",
    "    train_dataset=train_dataset,\n",
    "    eval_dataset=val_dataset,\n",
    ")\n",
    "\n",
    "trainer.train()"
   ]
  },
  {
   "cell_type": "code",
   "execution_count": 33,
   "metadata": {},
   "outputs": [
    {
     "data": {
      "text/plain": [
       "('./t5-main-chatbot-model\\\\tokenizer_config.json',\n",
       " './t5-main-chatbot-model\\\\special_tokens_map.json',\n",
       " './t5-main-chatbot-model\\\\spiece.model',\n",
       " './t5-main-chatbot-model\\\\added_tokens.json')"
      ]
     },
     "execution_count": 33,
     "metadata": {},
     "output_type": "execute_result"
    }
   ],
   "source": [
    "model.save_pretrained(\"./t5-main-chatbot-model\")\n",
    "tokenizer.save_pretrained(\"./t5-main-chatbot-model\")"
   ]
  },
  {
   "cell_type": "code",
   "execution_count": 1,
   "metadata": {},
   "outputs": [
    {
     "name": "stderr",
     "output_type": "stream",
     "text": [
      "c:\\Users\\Lenovo\\Desktop\\assistant\\myenv\\Lib\\site-packages\\tqdm\\auto.py:21: TqdmWarning: IProgress not found. Please update jupyter and ipywidgets. See https://ipywidgets.readthedocs.io/en/stable/user_install.html\n",
      "  from .autonotebook import tqdm as notebook_tqdm\n"
     ]
    },
    {
     "name": "stdout",
     "output_type": "stream",
     "text": [
      "Input: I need to check my card payment fee.\n",
      "Raw model output: card_payment_fee_charged ||| If you notice a duplicate charge, please reach out to customer support for a refund.\n",
      "Response: If you notice a duplicate charge, please reach out to customer support for a refund.\n",
      "Input: Why is my direct debit not recognized?\n",
      "Raw model output: direct_debit_payment_not_recognised ||| If a direct debit payment isn't recognized, please contact our support team for assistance.\n",
      "Response: If a direct debit payment isn't recognized, please contact our support team for assistance.\n",
      "Input: My balance isn't updated after a deposit.\n",
      "Raw model output: balance_not_updated_after_bank_deposit ||| Balance updates may take a few hours. If it's still not updated, please contact us.\n",
      "Response: Balance updates may take a few hours. If it's still not updated, please contact us.\n",
      "Input: I received the wrong amount of cash.\n",
      "Raw model output: wrong_amount_of_cash_received ||| If you received the wrong amount of cash, please report it to the nearest branch immediately.\n",
      "Response: If you received the wrong amount of cash, please report it to the nearest branch immediately.\n",
      "Input: There is a charge for cash withdrawal.\n",
      "Raw model output: cash_withdrawal_charge ||| Cash withdrawal charges are detailed in your account terms. Please review them for more information.\n",
      "Response: Cash withdrawal charges are detailed in your account terms. Please review them for more information.\n",
      "Input: I ordered my card one month ago but I still haven't obtained it.\n",
      "Raw model output: card_arrival ||| Your card will arrive within the expected delivery timeframe. If it does not arrive, please contact us.\n",
      "Response: Your card will arrive within the expected delivery timeframe. If it does not arrive, please contact us.\n",
      "Input: who is the goat?\n",
      "Raw model output: goat_cash_withdrawal ||| If you notice a goatcare delay, please contact us.\n",
      "Response: Cannot answer that question. Please contact support.\n"
     ]
    }
   ],
   "source": [
    "from transformers import T5Tokenizer, T5ForConditionalGeneration\n",
    "\n",
    "# Load the model and tokenizer\n",
    "model = T5ForConditionalGeneration.from_pretrained(\"./t5-main-chatbot-model\")\n",
    "tokenizer = T5Tokenizer.from_pretrained(\"./t5-main-chatbot-model\")\n",
    "\n",
    "# Define the list of valid intents\n",
    "valid_intents = [\n",
    "    'card_payment_fee_charged', 'direct_debit_payment_not_recognised',\n",
    "    'balance_not_updated_after_cheque_or_cash_deposit', 'wrong_amount_of_cash_received',\n",
    "    'cash_withdrawal_charge', 'transaction_charged_twice', 'declined_cash_withdrawal',\n",
    "    'transfer_fee_charged', 'transfer_not_received_by_recipient',\n",
    "    'balance_not_updated_after_bank_deposit', 'request_refund', 'card_payment_not_recognised',\n",
    "    'card_payment_wrong_exchange_rate', 'extra_charge_on_statement',\n",
    "    'wrong_exchange_rate_for_cash_withdrawal', 'Refund_not_showing_up',\n",
    "    'reverted_card_payment?', 'cash_withdrawal_not_recognised',\n",
    "    'activate_my_card', 'pending_card_payment', 'card_arrival', 'lost_or_stolen_card'\n",
    "]\n",
    "\n",
    "def generate_response(text):\n",
    "    input_ids = tokenizer.encode(f\"Intent: {text}\", return_tensors='pt')\n",
    "    output = model.generate(input_ids, max_new_tokens=50)\n",
    "    response = tokenizer.decode(output[0], skip_special_tokens=True).strip()\n",
    "\n",
    "    # Debugging output to understand what the model is generating\n",
    "    print(f\"Raw model output: {response}\")\n",
    "\n",
    "    # Check if the response contains the separator \"|||\"\n",
    "    if \"|||\" in response:\n",
    "        response_text = response.split(\"||| \")[1].strip()\n",
    "        \n",
    "        # Check if the response text starts with any valid intent\n",
    "        if any(intent in response for intent in valid_intents):\n",
    "            return response_text\n",
    "        else:\n",
    "            return \"Cannot answer that question. Please contact support.\"\n",
    "    else:\n",
    "        return \"Cannot answer that question. Please contact support.\"\n",
    "\n",
    "test_examples = [\n",
    "    \"I need to check my card payment fee.\",\n",
    "    \"Why is my direct debit not recognized?\",\n",
    "    \"My balance isn't updated after a deposit.\",\n",
    "    \"I received the wrong amount of cash.\",\n",
    "    \"There is a charge for cash withdrawal.\",\n",
    "    \"I ordered my card one month ago but I still haven't obtained it.\",\n",
    "    \"who is the goat?\",\n",
    "]\n",
    "\n",
    "for example in test_examples:\n",
    "    print(f\"Input: {example}\")\n",
    "    print(f\"Response: {generate_response(example)}\")\n"
   ]
  },
  {
   "cell_type": "code",
   "execution_count": null,
   "metadata": {},
   "outputs": [],
   "source": [
    "# Top 20 Intents: Index(['card_payment_fee_charged', 'direct_debit_payment_not_recognised',\n",
    "#        'balance_not_updated_after_cheque_or_cash_deposit',\n",
    "#        'wrong_amount_of_cash_received', 'cash_withdrawal_charge',\n",
    "#        'transaction_charged_twice', 'declined_cash_withdrawal',\n",
    "#        'transfer_fee_charged', 'transfer_not_received_by_recipient',\n",
    "#        'balance_not_updated_after_bank_transfer', 'request_refund',\n",
    "#        'card_payment_not_recognised', 'card_payment_wrong_exchange_rate',\n",
    "#        'extra_charge_on_statement', 'wrong_exchange_rate_for_cash_withdrawal',\n",
    "#        'Refund_not_showing_up', 'reverted_card_payment?',\n",
    "#        'cash_withdrawal_not_recognised', 'activate_my_card',\n",
    "#        'pending_card_payment', 'card_arrival', 'lost_or_stolen_card'],"
   ]
  },
  {
   "cell_type": "code",
   "execution_count": 19,
   "metadata": {},
   "outputs": [
    {
     "name": "stdout",
     "output_type": "stream",
     "text": [
      "Input: I need to check my card payment fee.\n",
      "Intent: card_payment_fee_charged\n",
      "Response: If you notice a duplicate charge, please reach out to customer support for a refund.\n",
      "\n",
      "==================================================\n",
      "\n",
      "Input: Why is my direct debit not recognized?\n",
      "Intent: direct_debit_payment_not_recognised\n",
      "Response: If a direct debit payment isn't recognized, please contact our support team for assistance.\n",
      "\n",
      "==================================================\n",
      "\n",
      "Input: My balance isn't updated after a deposit.\n",
      "Intent: balance_not_updated_after_bank_deposit\n",
      "Response: Balance updates may take a few hours. If it's still not updated, please contact us.\n",
      "\n",
      "==================================================\n",
      "\n",
      "Input: I received the wrong amount of cash.\n",
      "Intent: wrong_amount_of_cash_received\n",
      "Response: If you received the wrong amount of cash, please report it to the nearest branch immediately.\n",
      "\n",
      "==================================================\n",
      "\n",
      "Input: There is a charge for cash withdrawal.\n",
      "Intent: cash_withdrawal_charge\n",
      "Response: Cash withdrawal charges are detailed in your account terms. Please review them for more information.\n",
      "\n",
      "==================================================\n",
      "\n",
      "Input: I ordered my card one month ago but I still haven't obtained it.\n",
      "Intent: card_arrival\n",
      "Response: Your card will arrive within the expected delivery timeframe. If it does not arrive, please contact us.\n",
      "\n",
      "==================================================\n",
      "\n",
      "Input: what is python?\n",
      "Response: Cannot answer that question. Please contact support.\n",
      "\n",
      "==================================================\n",
      "\n",
      "Input: I think my card is lost.\n",
      "Intent: card_arrival\n",
      "Response: Your card will arrive within the expected delivery timeframe. If it does not arrive, please contact us.\n",
      "\n",
      "==================================================\n",
      "\n"
     ]
    }
   ],
   "source": [
    "from transformers import T5Tokenizer, T5ForConditionalGeneration\n",
    "\n",
    "# Load the model and tokenizer\n",
    "model = T5ForConditionalGeneration.from_pretrained(\"./t5-main-chatbot-model\")\n",
    "tokenizer = T5Tokenizer.from_pretrained(\"./t5-main-chatbot-model\")\n",
    "\n",
    "# Define the list of valid intents\n",
    "valid_intents = [\n",
    "    'card_payment_fee_charged', 'direct_debit_payment_not_recognised',\n",
    "    'balance_not_updated_after_cheque_or_cash_deposit', 'wrong_amount_of_cash_received',\n",
    "    'cash_withdrawal_charge', 'transaction_charged_twice', 'declined_cash_withdrawal',\n",
    "    'transfer_fee_charged', 'transfer_not_received_by_recipient',\n",
    "    'balance_not_updated_after_bank_deposit', 'request_refund', 'card_payment_not_recognised',\n",
    "    'card_payment_wrong_exchange_rate', 'extra_charge_on_statement',\n",
    "    'wrong_exchange_rate_for_cash_withdrawal', 'Refund_not_showing_up',\n",
    "    'reverted_card_payment?', 'cash_withdrawal_not_recognised',\n",
    "    'activate_my_card', 'pending_card_payment', 'card_arrival', 'lost_or_stolen_card'\n",
    "]\n",
    "\n",
    "def generate_response(text):\n",
    "    input_ids = tokenizer.encode(f\"Intent: {text}\", return_tensors='pt')\n",
    "    output = model.generate(input_ids, max_new_tokens=50)\n",
    "    response = tokenizer.decode(output[0], skip_special_tokens=True).strip()\n",
    "\n",
    "    # Check if the response contains the separator \"|||\"\n",
    "    if \"|||\" in response:\n",
    "        # Extract intent and response text\n",
    "        intent, response_text = response.split(\"||| \")\n",
    "        intent = intent.strip()\n",
    "\n",
    "        # Check if the intent is valid\n",
    "        if any(valid_intent in intent for valid_intent in valid_intents):\n",
    "            return f\"Input: {text}\\nIntent: {intent}\\nResponse: {response_text}\"\n",
    "        else:\n",
    "            return f\"Input: {text}\\nResponse: Cannot answer that question. Please contact support.\"\n",
    "    else:\n",
    "        return f\"Input: {text}\\nResponse: Cannot answer that question. Please contact support.\"\n",
    "\n",
    "# Test examples\n",
    "test_examples = [\n",
    "    \"I need to check my card payment fee.\",\n",
    "    \"Why is my direct debit not recognized?\",\n",
    "    \"My balance isn't updated after a deposit.\",\n",
    "    \"I received the wrong amount of cash.\",\n",
    "    \"There is a charge for cash withdrawal.\",\n",
    "    \"I ordered my card one month ago but I still haven't obtained it.\",\n",
    "    \"what is python?\",\n",
    "    \"I think my card is lost.\"\n",
    "]\n",
    "\n",
    "for example in test_examples:\n",
    "    print(generate_response(example))\n",
    "    print(\"\\n\" + \"=\"*50 + \"\\n\")\n"
   ]
  },
  {
   "cell_type": "markdown",
   "metadata": {},
   "source": [
    "## Audio Input Processing"
   ]
  },
  {
   "cell_type": "code",
   "execution_count": 1,
   "metadata": {},
   "outputs": [
    {
     "name": "stderr",
     "output_type": "stream",
     "text": [
      "c:\\Users\\Lenovo\\Desktop\\assistant\\myenv\\Lib\\site-packages\\tqdm\\auto.py:21: TqdmWarning: IProgress not found. Please update jupyter and ipywidgets. See https://ipywidgets.readthedocs.io/en/stable/user_install.html\n",
      "  from .autonotebook import tqdm as notebook_tqdm\n"
     ]
    },
    {
     "name": "stdout",
     "output_type": "stream",
     "text": [
      "Listening...\n",
      "User: my balance is not updated after deposit\n",
      "Response: Balance updates may take a few hours. If it's still not updated, please contact us.\n"
     ]
    }
   ],
   "source": [
    "import pyttsx3\n",
    "import speech_recognition as sr\n",
    "from transformers import T5Tokenizer, T5ForConditionalGeneration\n",
    "\n",
    "# Load the model and tokenizer\n",
    "model = T5ForConditionalGeneration.from_pretrained(\"./t5-main-chatbot-model\")\n",
    "tokenizer = T5Tokenizer.from_pretrained(\"./t5-main-chatbot-model\")\n",
    "\n",
    "# Initialize text-to-speech engine\n",
    "engine = pyttsx3.init()\n",
    "rate = engine.getProperty('rate')\n",
    "engine.setProperty('rate', rate - 35 )\n",
    "\n",
    "def speak(text):\n",
    "    engine.say(text)\n",
    "    engine.runAndWait()\n",
    "\n",
    "def listen():\n",
    "    recognizer = sr.Recognizer()\n",
    "    with sr.Microphone() as source:\n",
    "        print(\"Listening...\")\n",
    "        audio = recognizer.listen(source)\n",
    "    \n",
    "    try:\n",
    "        user_input = recognizer.recognize_google(audio)\n",
    "        print(f\"User: {user_input}\")\n",
    "    except sr.UnknownValueError:\n",
    "        print(\"Sorry, I didn't understand that.\")\n",
    "        return \"\"\n",
    "    except sr.RequestError:\n",
    "        print(\"Sorry, I'm having trouble with my speech recognition service.\")\n",
    "        return \"\"\n",
    "    \n",
    "    return user_input\n",
    "\n",
    "def generate_response(text):\n",
    "    input_ids = tokenizer.encode(f\"Intent: {text}\", return_tensors='pt')\n",
    "    output = model.generate(input_ids, max_new_tokens=50)\n",
    "    response = tokenizer.decode(output[0], skip_special_tokens=True).strip()\n",
    "\n",
    "    # Check if the response contains the separator \"|||\"\n",
    "    if \"|||\" in response:\n",
    "        # Extract intent and response text\n",
    "        intent, response_text = response.split(\"||| \")\n",
    "        intent = intent.strip()\n",
    "\n",
    "        # Return formatted response\n",
    "        return response_text\n",
    "    else:\n",
    "        return \"Cannot answer that question. Please contact support.\"\n",
    "\n",
    "while True:\n",
    "    # Listen for user input\n",
    "    user_input = listen()\n",
    "    \n",
    "    if user_input:\n",
    "        # Generate response based on user input\n",
    "        response = generate_response(user_input)\n",
    "        print(f\"Response: {response}\")\n",
    "        \n",
    "        # Speak the response\n",
    "        speak(response)\n",
    "        \n",
    "        # Exit after providing the response\n",
    "        break\n"
   ]
  },
  {
   "cell_type": "code",
   "execution_count": null,
   "metadata": {},
   "outputs": [],
   "source": []
  },
  {
   "cell_type": "code",
   "execution_count": null,
   "metadata": {},
   "outputs": [],
   "source": []
  }
 ],
 "metadata": {
  "kernelspec": {
   "display_name": "myenv",
   "language": "python",
   "name": "python3"
  },
  "language_info": {
   "codemirror_mode": {
    "name": "ipython",
    "version": 3
   },
   "file_extension": ".py",
   "mimetype": "text/x-python",
   "name": "python",
   "nbconvert_exporter": "python",
   "pygments_lexer": "ipython3",
   "version": "3.11.7"
  }
 },
 "nbformat": 4,
 "nbformat_minor": 2
}
